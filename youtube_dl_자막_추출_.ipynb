{
  "nbformat": 4,
  "nbformat_minor": 5,
  "metadata": {
    "kernelspec": {
      "display_name": "Python 3",
      "language": "python",
      "name": "python3"
    },
    "language_info": {
      "codemirror_mode": {
        "name": "ipython",
        "version": 3
      },
      "file_extension": ".py",
      "mimetype": "text/x-python",
      "name": "python",
      "nbconvert_exporter": "python",
      "pygments_lexer": "ipython3",
      "version": "3.8.8"
    },
    "colab": {
      "name": "youtube-dl 자막 추출 .ipynb",
      "provenance": [],
      "include_colab_link": true
    }
  },
  "cells": [
    {
      "cell_type": "markdown",
      "metadata": {
        "id": "view-in-github",
        "colab_type": "text"
      },
      "source": [
        "<a href=\"https://colab.research.google.com/github/sdw1621/sejong_cyber_bigdatatrend/blob/main/youtube_dl_%EC%9E%90%EB%A7%89_%EC%B6%94%EC%B6%9C_.ipynb\" target=\"_parent\"><img src=\"https://colab.research.google.com/assets/colab-badge.svg\" alt=\"Open In Colab\"/></a>"
      ]
    },
    {
      "cell_type": "markdown",
      "metadata": {
        "id": "0e41604a"
      },
      "source": [
        "### 1. youtube-dl 사용법\n",
        "https://theqoo.net/japan/1960161485\n",
        "\n",
        "\n",
        "### 2. youtube-dl 자막 옵션\n",
        "https://www.it-gundan.com/ko/youtube-dl/youtubedl%EC%9D%84-%EC%82%AC%EC%9A%A9%ED%95%98%EC%97%AC-%EB%8F%99%EC%98%81%EC%83%81%EC%9D%98-%EC%9E%90%EB%A7%89%EC%9D%84-%EB%8B%A4%EC%9A%B4%EB%A1%9C%EB%93%9C%ED%95%98%EB%8A%94-%EB%B0%A9%EB%B2%95/958560203/\n",
        "\n",
        "### 3. vtt를 srt로 변환하는 방법\n",
        "http://ymister.cafe24.com/textcube/680"
      ],
      "id": "0e41604a"
    },
    {
      "cell_type": "code",
      "metadata": {
        "id": "93699420"
      },
      "source": [
        "!pip install youtube-dl"
      ],
      "id": "93699420",
      "execution_count": null,
      "outputs": []
    },
    {
      "cell_type": "code",
      "metadata": {
        "scrolled": true,
        "id": "b49302f7",
        "outputId": "ad50ad86-e24a-426b-8157-6298f3cd814e"
      },
      "source": [
        "!youtube-dl --all-subs --skip-download \"https://www.youtube.com/watch?v=2lAe1cqCOXo&ab_channel=YouTube\""
      ],
      "id": "b49302f7",
      "execution_count": null,
      "outputs": [
        {
          "name": "stdout",
          "output_type": "stream",
          "text": [
            "[youtube] 2lAe1cqCOXo: Downloading webpage\n",
            "[info] Writing video subtitles to: YouTube Rewind 2019 - For the Record _ #YouTubeRewind-2lAe1cqCOXo.ar.vtt\n",
            "[info] Writing video subtitles to: YouTube Rewind 2019 - For the Record _ #YouTubeRewind-2lAe1cqCOXo.zh-HK.vtt\n",
            "[info] Writing video subtitles to: YouTube Rewind 2019 - For the Record _ #YouTubeRewind-2lAe1cqCOXo.zh-TW.vtt\n",
            "[info] Writing video subtitles to: YouTube Rewind 2019 - For the Record _ #YouTubeRewind-2lAe1cqCOXo.hr.vtt\n",
            "[info] Writing video subtitles to: YouTube Rewind 2019 - For the Record _ #YouTubeRewind-2lAe1cqCOXo.cs.vtt\n",
            "[info] Writing video subtitles to: YouTube Rewind 2019 - For the Record _ #YouTubeRewind-2lAe1cqCOXo.da.vtt\n",
            "[info] Writing video subtitles to: YouTube Rewind 2019 - For the Record _ #YouTubeRewind-2lAe1cqCOXo.nl.vtt\n",
            "[info] Writing video subtitles to: YouTube Rewind 2019 - For the Record _ #YouTubeRewind-2lAe1cqCOXo.en.vtt\n",
            "[info] Writing video subtitles to: YouTube Rewind 2019 - For the Record _ #YouTubeRewind-2lAe1cqCOXo.en-GB.vtt\n",
            "[info] Writing video subtitles to: YouTube Rewind 2019 - For the Record _ #YouTubeRewind-2lAe1cqCOXo.et.vtt\n",
            "[info] Writing video subtitles to: YouTube Rewind 2019 - For the Record _ #YouTubeRewind-2lAe1cqCOXo.fil.vtt\n",
            "[info] Writing video subtitles to: YouTube Rewind 2019 - For the Record _ #YouTubeRewind-2lAe1cqCOXo.fi.vtt\n",
            "[info] Writing video subtitles to: YouTube Rewind 2019 - For the Record _ #YouTubeRewind-2lAe1cqCOXo.fr-CA.vtt\n",
            "[info] Writing video subtitles to: YouTube Rewind 2019 - For the Record _ #YouTubeRewind-2lAe1cqCOXo.fr-FR.vtt\n",
            "[info] Writing video subtitles to: YouTube Rewind 2019 - For the Record _ #YouTubeRewind-2lAe1cqCOXo.de.vtt\n",
            "[info] Writing video subtitles to: YouTube Rewind 2019 - For the Record _ #YouTubeRewind-2lAe1cqCOXo.el.vtt\n",
            "[info] Writing video subtitles to: YouTube Rewind 2019 - For the Record _ #YouTubeRewind-2lAe1cqCOXo.iw.vtt\n",
            "[info] Writing video subtitles to: YouTube Rewind 2019 - For the Record _ #YouTubeRewind-2lAe1cqCOXo.hu.vtt\n",
            "[info] Writing video subtitles to: YouTube Rewind 2019 - For the Record _ #YouTubeRewind-2lAe1cqCOXo.id.vtt\n",
            "[info] Writing video subtitles to: YouTube Rewind 2019 - For the Record _ #YouTubeRewind-2lAe1cqCOXo.it.vtt\n",
            "[info] Writing video subtitles to: YouTube Rewind 2019 - For the Record _ #YouTubeRewind-2lAe1cqCOXo.ja.vtt\n",
            "[info] Writing video subtitles to: YouTube Rewind 2019 - For the Record _ #YouTubeRewind-2lAe1cqCOXo.ko.vtt\n",
            "[info] Writing video subtitles to: YouTube Rewind 2019 - For the Record _ #YouTubeRewind-2lAe1cqCOXo.lv.vtt\n",
            "[info] Writing video subtitles to: YouTube Rewind 2019 - For the Record _ #YouTubeRewind-2lAe1cqCOXo.lt.vtt\n",
            "[info] Writing video subtitles to: YouTube Rewind 2019 - For the Record _ #YouTubeRewind-2lAe1cqCOXo.ms.vtt\n",
            "[info] Writing video subtitles to: YouTube Rewind 2019 - For the Record _ #YouTubeRewind-2lAe1cqCOXo.no.vtt\n",
            "[info] Writing video subtitles to: YouTube Rewind 2019 - For the Record _ #YouTubeRewind-2lAe1cqCOXo.pl.vtt\n",
            "[info] Writing video subtitles to: YouTube Rewind 2019 - For the Record _ #YouTubeRewind-2lAe1cqCOXo.pt-BR.vtt\n",
            "[info] Writing video subtitles to: YouTube Rewind 2019 - For the Record _ #YouTubeRewind-2lAe1cqCOXo.pt-PT.vtt\n",
            "[info] Writing video subtitles to: YouTube Rewind 2019 - For the Record _ #YouTubeRewind-2lAe1cqCOXo.ro.vtt\n",
            "[info] Writing video subtitles to: YouTube Rewind 2019 - For the Record _ #YouTubeRewind-2lAe1cqCOXo.ru.vtt\n",
            "[info] Writing video subtitles to: YouTube Rewind 2019 - For the Record _ #YouTubeRewind-2lAe1cqCOXo.sk.vtt\n",
            "[info] Writing video subtitles to: YouTube Rewind 2019 - For the Record _ #YouTubeRewind-2lAe1cqCOXo.es-419.vtt\n",
            "[info] Writing video subtitles to: YouTube Rewind 2019 - For the Record _ #YouTubeRewind-2lAe1cqCOXo.es-ES.vtt\n",
            "[info] Writing video subtitles to: YouTube Rewind 2019 - For the Record _ #YouTubeRewind-2lAe1cqCOXo.sv.vtt\n",
            "[info] Writing video subtitles to: YouTube Rewind 2019 - For the Record _ #YouTubeRewind-2lAe1cqCOXo.th.vtt\n",
            "[info] Writing video subtitles to: YouTube Rewind 2019 - For the Record _ #YouTubeRewind-2lAe1cqCOXo.tr.vtt\n",
            "[info] Writing video subtitles to: YouTube Rewind 2019 - For the Record _ #YouTubeRewind-2lAe1cqCOXo.uk.vtt\n",
            "[info] Writing video subtitles to: YouTube Rewind 2019 - For the Record _ #YouTubeRewind-2lAe1cqCOXo.ur.vtt\n",
            "[info] Writing video subtitles to: YouTube Rewind 2019 - For the Record _ #YouTubeRewind-2lAe1cqCOXo.vi.vtt\n"
          ]
        }
      ]
    },
    {
      "cell_type": "code",
      "metadata": {
        "id": "a5b94e51",
        "outputId": "8621b43c-5b5b-4606-a355-c31d8cee7dfd"
      },
      "source": [
        "!youtube-dl --list-subs https://www.youtube.com/watch?v=Ye8mB6VsUHw"
      ],
      "id": "a5b94e51",
      "execution_count": null,
      "outputs": [
        {
          "name": "stdout",
          "output_type": "stream",
          "text": [
            "[youtube] Ye8mB6VsUHw: Downloading webpage\n",
            "Available subtitles for Ye8mB6VsUHw:\n",
            "Language formats\n",
            "en       vtt, ttml, srv3, srv2, srv1\n"
          ]
        }
      ]
    },
    {
      "cell_type": "code",
      "metadata": {
        "id": "1c073746",
        "outputId": "2dd457c2-4acf-4fac-aa75-02e30bcc27b9"
      },
      "source": [
        "!youtube-dl --list-subs https://www.youtube.com/watch?v=2lAe1cqCOXo&ab_channel=YouTube"
      ],
      "id": "1c073746",
      "execution_count": null,
      "outputs": [
        {
          "name": "stdout",
          "output_type": "stream",
          "text": [
            "[youtube] 2lAe1cqCOXo: Downloading webpage\n",
            "Available subtitles for 2lAe1cqCOXo:\n",
            "Language formats\n",
            "ar       vtt, ttml, srv3, srv2, srv1\n",
            "zh-HK    vtt, ttml, srv3, srv2, srv1\n",
            "zh-TW    vtt, ttml, srv3, srv2, srv1\n",
            "hr       vtt, ttml, srv3, srv2, srv1\n",
            "cs       vtt, ttml, srv3, srv2, srv1\n",
            "da       vtt, ttml, srv3, srv2, srv1\n",
            "nl       vtt, ttml, srv3, srv2, srv1\n",
            "en       vtt, ttml, srv3, srv2, srv1\n",
            "en-GB    vtt, ttml, srv3, srv2, srv1\n",
            "et       vtt, ttml, srv3, srv2, srv1\n",
            "fil      vtt, ttml, srv3, srv2, srv1\n",
            "fi       vtt, ttml, srv3, srv2, srv1\n",
            "fr-CA    vtt, ttml, srv3, srv2, srv1\n",
            "fr-FR    vtt, ttml, srv3, srv2, srv1\n",
            "de       vtt, ttml, srv3, srv2, srv1\n",
            "el       vtt, ttml, srv3, srv2, srv1\n",
            "iw       vtt, ttml, srv3, srv2, srv1\n",
            "hu       vtt, ttml, srv3, srv2, srv1\n",
            "id       vtt, ttml, srv3, srv2, srv1\n",
            "it       vtt, ttml, srv3, srv2, srv1\n",
            "ja       vtt, ttml, srv3, srv2, srv1\n",
            "ko       vtt, ttml, srv3, srv2, srv1\n",
            "lv       vtt, ttml, srv3, srv2, srv1\n",
            "lt       vtt, ttml, srv3, srv2, srv1\n",
            "ms       vtt, ttml, srv3, srv2, srv1\n",
            "no       vtt, ttml, srv3, srv2, srv1\n",
            "pl       vtt, ttml, srv3, srv2, srv1\n",
            "pt-BR    vtt, ttml, srv3, srv2, srv1\n",
            "pt-PT    vtt, ttml, srv3, srv2, srv1\n",
            "ro       vtt, ttml, srv3, srv2, srv1\n",
            "ru       vtt, ttml, srv3, srv2, srv1\n",
            "sk       vtt, ttml, srv3, srv2, srv1\n",
            "es-419   vtt, ttml, srv3, srv2, srv1\n",
            "es-ES    vtt, ttml, srv3, srv2, srv1\n",
            "sv       vtt, ttml, srv3, srv2, srv1\n",
            "th       vtt, ttml, srv3, srv2, srv1\n",
            "tr       vtt, ttml, srv3, srv2, srv1\n",
            "uk       vtt, ttml, srv3, srv2, srv1\n",
            "ur       vtt, ttml, srv3, srv2, srv1\n",
            "vi       vtt, ttml, srv3, srv2, srv1\n"
          ]
        },
        {
          "name": "stderr",
          "output_type": "stream",
          "text": [
            "'ab_channel'은(는) 내부 또는 외부 명령, 실행할 수 있는 프로그램, 또는\n",
            "배치 파일이 아닙니다.\n"
          ]
        }
      ]
    },
    {
      "cell_type": "code",
      "metadata": {
        "id": "c0553a7b"
      },
      "source": [
        ""
      ],
      "id": "c0553a7b",
      "execution_count": null,
      "outputs": []
    }
  ]
}