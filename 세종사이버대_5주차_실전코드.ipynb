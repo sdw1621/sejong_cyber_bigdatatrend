{
  "nbformat": 4,
  "nbformat_minor": 0,
  "metadata": {
    "colab": {
      "name": "세종사이버대_5주차_실전코드.ipynb",
      "provenance": [],
      "collapsed_sections": [
        "nZuegHPSBZ6M",
        "1uuE0ULGIRNy",
        "SjrNBBv_ourL",
        "jSE3JzxrmXQu",
        "UBwJoTCsfJij",
        "zdLPDaArfwBb"
      ],
      "authorship_tag": "ABX9TyN5hoZbeCnMW90wcgKM5VJO",
      "include_colab_link": true
    },
    "kernelspec": {
      "name": "python3",
      "display_name": "Python 3"
    },
    "language_info": {
      "name": "python"
    }
  },
  "cells": [
    {
      "cell_type": "markdown",
      "metadata": {
        "id": "view-in-github",
        "colab_type": "text"
      },
      "source": [
        "<a href=\"https://colab.research.google.com/github/sdw1621/sejong_cyber_bigdatatrend/blob/main/%EC%84%B8%EC%A2%85%EC%82%AC%EC%9D%B4%EB%B2%84%EB%8C%80_5%EC%A3%BC%EC%B0%A8_%EC%8B%A4%EC%A0%84%EC%BD%94%EB%93%9C.ipynb\" target=\"_parent\"><img src=\"https://colab.research.google.com/assets/colab-badge.svg\" alt=\"Open In Colab\"/></a>"
      ]
    },
    {
      "cell_type": "markdown",
      "metadata": {
        "id": "nZuegHPSBZ6M"
      },
      "source": [
        "###**1. 코로나 열 체크 실전 코드**"
      ]
    },
    {
      "cell_type": "code",
      "metadata": {
        "id": "FTWM5xSbBV1M"
      },
      "source": [
        "\"\"\"\n",
        "작성일자 : 2021-07-26\n",
        "작성자   : 신동욱\n",
        "\"\"\"\n",
        "\n",
        "# -*- coding: utf-8 -*-                              # 퀴즈, 한글 깨짐 방지 utf-8\n",
        "temp = input(\"체온을 측정 중입니다.\")                # 38.5 입력 # IOT 시대에서는 하드웨어로 열을 센싱\n",
        "msg = \"당신은 코로나 판정에 양성입니다.\"\n",
        "\n",
        "if float(temp) >= 37.5 and \"양성\" in msg:            # 퀴즈(float, in)\n",
        "    print(\"당신은 확진자입니다. 격리 조치됩니다.\")\n",
        "else:\n",
        "    print(\"당신은 확진자가 아닙니다. 격리 해제됩니다.\")"
      ],
      "execution_count": null,
      "outputs": []
    },
    {
      "cell_type": "markdown",
      "metadata": {
        "id": "1uuE0ULGIRNy"
      },
      "source": [
        "###**2. 메뉴 선택(자판기) 실전 코드**"
      ]
    },
    {
      "cell_type": "code",
      "metadata": {
        "id": "2L_GTutZFZRM"
      },
      "source": [
        "\"\"\"\n",
        "작성일자 : 2021-07-26\n",
        "작성자   : 신동욱\n",
        "\"\"\"\n",
        "# -*- coding: utf-8 -*- \n",
        "\n",
        "# 사용자에게 1~9 숫자를 입력 받아 아래 음료를 선택\n",
        "# 1~3. 콜라, 4~6. 사이다, 7~9. 주스\n",
        "\n",
        "while 1:\n",
        "  # input()로 입력받은 데이터는 숫자를 입력하더라도 항상 문자열형으로 가지고 옴 1 -> \"1\"\n",
        "  choice_drink = input(\"드시고 싶은 음료의 번호를 입력하세요 : \")\n",
        "\n",
        "  # input은 항상 문자열 형으로 가지고 옴\n",
        "  print(type(choice_drink))\n",
        "\n",
        "  # 형 변환 코드 작성, 에러 해결 방법 1\n",
        "  choice_drink = int(choice_drink) \n",
        "\n",
        "  if 1 <= choice_drink <= 3:\n",
        "    print(\"콜라\")\n",
        "    break\n",
        "  elif 4 <= choice_drink <= 6:\n",
        "    print(\"사이다\")\n",
        "    break\n",
        "  elif 7 <= choice_drink <= 9:\n",
        "    print(\"주스\")\n",
        "    break\n",
        "  else:\n",
        "    print(\"1~9의 숫자를 입력해주세요\")\n",
        "    continue\n",
        "    "
      ],
      "execution_count": null,
      "outputs": []
    },
    {
      "cell_type": "markdown",
      "metadata": {
        "id": "SjrNBBv_ourL"
      },
      "source": [
        "###**3. 몇 일 만에 해당 매장에 방문 실전 코드**"
      ]
    },
    {
      "cell_type": "markdown",
      "metadata": {
        "id": "jSE3JzxrmXQu"
      },
      "source": [
        "####**3-0. 코랩에 '세종사이버대_5주차_샘플파일.xlsx' 파일 업로드**"
      ]
    },
    {
      "cell_type": "markdown",
      "metadata": {
        "id": "UBwJoTCsfJij"
      },
      "source": [
        "#####**3-1. 엑셀 파일 로딩 및 실제 데이터 확인**"
      ]
    },
    {
      "cell_type": "code",
      "metadata": {
        "colab": {
          "base_uri": "https://localhost:8080/",
          "height": 142
        },
        "id": "jRT-_bydLgVF",
        "outputId": "8cbf3f06-be80-4f6e-b46d-2310cb67755f"
      },
      "source": [
        "import pandas as pd\n",
        "\n",
        "df = pd.read_excel('세종사이버대_5주차_샘플파일.xlsx')\n",
        "# df = pd.read_excel('세종사이버대_5주차_샘플파일.xlsx',sheet_name='회원정보', usecols='D')\n",
        "df"
      ],
      "execution_count": null,
      "outputs": [
        {
          "output_type": "execute_result",
          "data": {
            "text/html": [
              "<div>\n",
              "<style scoped>\n",
              "    .dataframe tbody tr th:only-of-type {\n",
              "        vertical-align: middle;\n",
              "    }\n",
              "\n",
              "    .dataframe tbody tr th {\n",
              "        vertical-align: top;\n",
              "    }\n",
              "\n",
              "    .dataframe thead th {\n",
              "        text-align: right;\n",
              "    }\n",
              "</style>\n",
              "<table border=\"1\" class=\"dataframe\">\n",
              "  <thead>\n",
              "    <tr style=\"text-align: right;\">\n",
              "      <th></th>\n",
              "      <th>아이디</th>\n",
              "      <th>이름</th>\n",
              "      <th>주민번호</th>\n",
              "      <th>최종 방문일자</th>\n",
              "    </tr>\n",
              "  </thead>\n",
              "  <tbody>\n",
              "    <tr>\n",
              "      <th>0</th>\n",
              "      <td>aiinter_kamisense</td>\n",
              "      <td>신동욱</td>\n",
              "      <td>800101-1234567</td>\n",
              "      <td>2021-07-01</td>\n",
              "    </tr>\n",
              "    <tr>\n",
              "      <th>1</th>\n",
              "      <td>aespas.karina</td>\n",
              "      <td>카리나</td>\n",
              "      <td>200411-2345678</td>\n",
              "      <td>2021-06-01</td>\n",
              "    </tr>\n",
              "    <tr>\n",
              "      <th>2</th>\n",
              "      <td>bbong_chichu</td>\n",
              "      <td>블핑지수</td>\n",
              "      <td>950103-2579135</td>\n",
              "      <td>2021-08-08</td>\n",
              "    </tr>\n",
              "  </tbody>\n",
              "</table>\n",
              "</div>"
            ],
            "text/plain": [
              "                 아이디    이름            주민번호    최종 방문일자\n",
              "0  aiinter_kamisense   신동욱  800101-1234567 2021-07-01\n",
              "1      aespas.karina   카리나  200411-2345678 2021-06-01\n",
              "2       bbong_chichu  블핑지수  950103-2579135 2021-08-08"
            ]
          },
          "metadata": {
            "tags": []
          },
          "execution_count": 4
        }
      ]
    },
    {
      "cell_type": "markdown",
      "metadata": {
        "id": "zdLPDaArfwBb"
      },
      "source": [
        "##### **3-2 완성코드**"
      ]
    },
    {
      "cell_type": "code",
      "metadata": {
        "colab": {
          "base_uri": "https://localhost:8080/"
        },
        "id": "w1zICEfJfvM4",
        "outputId": "2f63aac9-8c15-490a-fc7b-6fabe66cda21"
      },
      "source": [
        "import pandas as pd\n",
        "from datetime import datetime\n",
        "\n",
        "df = pd.read_excel('세종사이버대_5주차_샘플파일.xlsx')\n",
        "\n",
        "id = input(\"본인의 아이디를 입력하세요 : \")\n",
        "\n",
        "df[df['아이디'].isin([id])]\n",
        "\n",
        "if df[df['아이디'].isin([id])].empty == True:\n",
        "  print(\"신규 회원입니다\")\n",
        "  # 신규 회원 가입 웹 페이지 연결~!\n",
        "else:\n",
        "  customer_name = df[df['아이디'] == id]['이름']\n",
        "  print(customer_name.values[0], \"님 반갑습니다.\")\n",
        "\n",
        "  last_visit = df[df['아이디'] == id]['최종 방문일자']\n",
        "  print(\"최종 방문일은\", str(df['최종 방문일자'][last_visit.index.values[0]])[:10], \"입니다.\")\n",
        "\n",
        "from datetime import datetime, timedelta\n",
        "\n",
        "ninety_day_later = df['최종 방문일자'][last_visit.index.values[0]] + timedelta(days=90)\n",
        "print(\"쿠폰은 사용 최대\", str(ninety_day_later)[:10], \"까지 사용가능합니다.\")"
      ],
      "execution_count": null,
      "outputs": [
        {
          "output_type": "stream",
          "text": [
            "본인의 아이디를 입력하세요 : bbong_chichu\n",
            "블핑지수 님 반갑습니다.\n",
            "최종 방문일은 2021-08-08 입니다.\n",
            "쿠폰은 사용 최대 2021-11-06 까지 사용가능합니다.\n"
          ],
          "name": "stdout"
        }
      ]
    }
  ]
}