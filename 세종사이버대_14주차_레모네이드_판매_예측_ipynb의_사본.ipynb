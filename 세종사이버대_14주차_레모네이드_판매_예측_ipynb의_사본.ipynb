{
  "nbformat": 4,
  "nbformat_minor": 0,
  "metadata": {
    "colab": {
      "name": "세종사이버대 14주차_레모네이드 판매 예측.ipynb의 사본",
      "provenance": [],
      "collapsed_sections": [],
      "include_colab_link": true
    },
    "kernelspec": {
      "name": "python3",
      "display_name": "Python 3"
    }
  },
  "cells": [
    {
      "cell_type": "markdown",
      "metadata": {
        "id": "view-in-github",
        "colab_type": "text"
      },
      "source": [
        "<a href=\"https://colab.research.google.com/github/sdw1621/sejong_cyber_bigdatatrend/blob/main/%EC%84%B8%EC%A2%85%EC%82%AC%EC%9D%B4%EB%B2%84%EB%8C%80_14%EC%A3%BC%EC%B0%A8_%EB%A0%88%EB%AA%A8%EB%84%A4%EC%9D%B4%EB%93%9C_%ED%8C%90%EB%A7%A4_%EC%98%88%EC%B8%A1_ipynb%EC%9D%98_%EC%82%AC%EB%B3%B8.ipynb\" target=\"_parent\"><img src=\"https://colab.research.google.com/assets/colab-badge.svg\" alt=\"Open In Colab\"/></a>"
      ]
    },
    {
      "cell_type": "markdown",
      "metadata": {
        "id": "eLJeQZcrlwkC"
      },
      "source": [
        "###**참고 사이트**\n",
        "\n",
        "https://opentutorials.org/course/4570/28974"
      ]
    },
    {
      "cell_type": "markdown",
      "metadata": {
        "id": "bniE7Q0Guveg"
      },
      "source": [
        "###**레모네이드 판매 예측**\n",
        "github csv url:\n",
        "\n",
        "https://raw.githubusercontent.com/blackdew/tensorflow1/master/csv/lemonade.csv "
      ]
    },
    {
      "cell_type": "code",
      "metadata": {
        "id": "nEEBKLL6ZHZe"
      },
      "source": [
        "# 라이브러리 사용\n",
        "import tensorflow as tf # 머신러닝 라이브러리, tensor : [ [ ] ], flow : 흐름\n",
        "import pandas as pd # 엑셀 + SQL(데이터베이스, 엑셀 데이터 같은 형식을 많이 모아놓음)"
      ],
      "execution_count": null,
      "outputs": []
    },
    {
      "cell_type": "code",
      "metadata": {
        "id": "0E37C29d3BDl",
        "colab": {
          "base_uri": "https://localhost:8080/",
          "height": 205
        },
        "outputId": "9c4aa11a-cc5c-49d0-866e-5f17d695105c"
      },
      "source": [
        "# 데이터를 준비합니다.\n",
        "raw_data = 'https://raw.githubusercontent.com/blackdew/tensorflow1/master/csv/lemonade.csv'\n",
        "remon_drink = pd.read_csv(raw_data)\n",
        "remon_drink.head()"
      ],
      "execution_count": null,
      "outputs": [
        {
          "output_type": "execute_result",
          "data": {
            "text/html": [
              "<div>\n",
              "<style scoped>\n",
              "    .dataframe tbody tr th:only-of-type {\n",
              "        vertical-align: middle;\n",
              "    }\n",
              "\n",
              "    .dataframe tbody tr th {\n",
              "        vertical-align: top;\n",
              "    }\n",
              "\n",
              "    .dataframe thead th {\n",
              "        text-align: right;\n",
              "    }\n",
              "</style>\n",
              "<table border=\"1\" class=\"dataframe\">\n",
              "  <thead>\n",
              "    <tr style=\"text-align: right;\">\n",
              "      <th></th>\n",
              "      <th>온도</th>\n",
              "      <th>판매량</th>\n",
              "    </tr>\n",
              "  </thead>\n",
              "  <tbody>\n",
              "    <tr>\n",
              "      <th>0</th>\n",
              "      <td>20</td>\n",
              "      <td>40</td>\n",
              "    </tr>\n",
              "    <tr>\n",
              "      <th>1</th>\n",
              "      <td>21</td>\n",
              "      <td>42</td>\n",
              "    </tr>\n",
              "    <tr>\n",
              "      <th>2</th>\n",
              "      <td>22</td>\n",
              "      <td>44</td>\n",
              "    </tr>\n",
              "    <tr>\n",
              "      <th>3</th>\n",
              "      <td>23</td>\n",
              "      <td>46</td>\n",
              "    </tr>\n",
              "    <tr>\n",
              "      <th>4</th>\n",
              "      <td>24</td>\n",
              "      <td>48</td>\n",
              "    </tr>\n",
              "  </tbody>\n",
              "</table>\n",
              "</div>"
            ],
            "text/plain": [
              "   온도  판매량\n",
              "0  20   40\n",
              "1  21   42\n",
              "2  22   44\n",
              "3  23   46\n",
              "4  24   48"
            ]
          },
          "metadata": {},
          "execution_count": 2
        }
      ]
    },
    {
      "cell_type": "code",
      "metadata": {
        "id": "i5eCfPsAu1BQ",
        "colab": {
          "base_uri": "https://localhost:8080/"
        },
        "outputId": "ecb3f761-51c9-4751-87c8-f64c123e690f"
      },
      "source": [
        "# 독립(원인)변수 : cause, X\n",
        "cause = remon_drink[['온도']]\n",
        "print(cause)\n",
        "\n",
        "print()\n",
        "\n",
        "# 종속(결과)변수 : result, Y\n",
        "result = remon_drink[['판매량']]\n",
        "print(result)"
      ],
      "execution_count": null,
      "outputs": [
        {
          "output_type": "stream",
          "name": "stdout",
          "text": [
            "   온도\n",
            "0  20\n",
            "1  21\n",
            "2  22\n",
            "3  23\n",
            "4  24\n",
            "5  25\n",
            "\n",
            "   판매량\n",
            "0   40\n",
            "1   42\n",
            "2   44\n",
            "3   46\n",
            "4   48\n",
            "5   50\n"
          ]
        }
      ]
    },
    {
      "cell_type": "code",
      "metadata": {
        "colab": {
          "base_uri": "https://localhost:8080/"
        },
        "id": "cEU76qDU4vGP",
        "outputId": "4e6e80a8-0c4b-4974-aa71-3f2726ad1ee5"
      },
      "source": [
        "print(cause.shape, result.shape)"
      ],
      "execution_count": null,
      "outputs": [
        {
          "output_type": "stream",
          "name": "stdout",
          "text": [
            "(6, 1) (6, 1)\n"
          ]
        }
      ]
    },
    {
      "cell_type": "code",
      "metadata": {
        "id": "X-Q2Wp6qZFaR"
      },
      "source": [
        "# 모델(기준)을 만듭니다.\n",
        "X = tf.keras.layers.Input(shape=[1]) # 원인 : 온도\n",
        "Y = tf.keras.layers.Dense(1)(X) # 결과 : 레모네이드 판매량\n",
        "\n",
        "# 모델 : Y = 2X\n",
        "model = tf.keras.models.Model(X, Y) # 온도 20도면 레몬네이드 40잔 팔린다. 2X = Y, Y(레모네이드 판매 예측) = 2X(온도), X\n",
        "model.compile(loss='mse') # Mean Squared Error(평균 오차율), compile : 분석\n",
        "\n",
        "# Mean Squared Error 관련 설명\n",
        "# https://m.blog.naver.com/wideeyed/221025759001"
      ],
      "execution_count": null,
      "outputs": []
    },
    {
      "cell_type": "code",
      "metadata": {
        "id": "gqpGZZ6YZMTB",
        "colab": {
          "base_uri": "https://localhost:8080/"
        },
        "outputId": "15968302-ce62-4a7d-fce2-59c4807ab765"
      },
      "source": [
        "# 모델을 학습시킵니다. \n",
        "model.fit(cause, result, epochs=1000, verbose=0) # fit : 머신을 학습시킴, 원인(온도), 결과(레몬네이드 판매량), epochs : 반복\n",
        "model.fit(cause, result, epochs=10)"
      ],
      "execution_count": null,
      "outputs": [
        {
          "output_type": "stream",
          "name": "stdout",
          "text": [
            "Epoch 1/10\n",
            "1/1 [==============================] - 0s 7ms/step - loss: 0.0016\n",
            "Epoch 2/10\n",
            "1/1 [==============================] - 0s 7ms/step - loss: 0.0016\n",
            "Epoch 3/10\n",
            "1/1 [==============================] - 0s 10ms/step - loss: 0.0016\n",
            "Epoch 4/10\n",
            "1/1 [==============================] - 0s 11ms/step - loss: 0.0016\n",
            "Epoch 5/10\n",
            "1/1 [==============================] - 0s 9ms/step - loss: 0.0016\n",
            "Epoch 6/10\n",
            "1/1 [==============================] - 0s 5ms/step - loss: 0.0016\n",
            "Epoch 7/10\n",
            "1/1 [==============================] - 0s 4ms/step - loss: 0.0016\n",
            "Epoch 8/10\n",
            "1/1 [==============================] - 0s 6ms/step - loss: 0.0016\n",
            "Epoch 9/10\n",
            "1/1 [==============================] - 0s 4ms/step - loss: 0.0016\n",
            "Epoch 10/10\n",
            "1/1 [==============================] - 0s 4ms/step - loss: 0.0016\n"
          ]
        },
        {
          "output_type": "execute_result",
          "data": {
            "text/plain": [
              "<keras.callbacks.History at 0x7f85c9f549d0>"
            ]
          },
          "metadata": {},
          "execution_count": 8
        }
      ]
    },
    {
      "cell_type": "code",
      "metadata": {
        "id": "1q_JDxkSZPaz",
        "colab": {
          "base_uri": "https://localhost:8080/"
        },
        "outputId": "da0288eb-7a9d-4f4f-8fc0-79fb79b91ccc"
      },
      "source": [
        "# 모델(Y = 2X)을 이용합니다. \n",
        "print(model.predict(cause)) # predict : 예측"
      ],
      "execution_count": null,
      "outputs": [
        {
          "output_type": "stream",
          "name": "stdout",
          "text": [
            "[[40.048767]\n",
            " [42.02569 ]\n",
            " [44.002613]\n",
            " [45.979538]\n",
            " [47.956463]\n",
            " [49.933388]]\n"
          ]
        }
      ]
    },
    {
      "cell_type": "code",
      "metadata": {
        "colab": {
          "base_uri": "https://localhost:8080/"
        },
        "id": "ssGwztoRlgZ6",
        "outputId": "fa3d0ab7-b2b0-49a0-b1e4-fe9ea17c3631"
      },
      "source": [
        "print(model.predict([[15]])) # predict : 예측, 모델(Y=2X)"
      ],
      "execution_count": null,
      "outputs": [
        {
          "output_type": "stream",
          "name": "stdout",
          "text": [
            "[[30.164145]]\n"
          ]
        }
      ]
    },
    {
      "cell_type": "code",
      "metadata": {
        "id": "v32yW-7llkKC",
        "colab": {
          "base_uri": "https://localhost:8080/"
        },
        "outputId": "82dabf59-16b5-4108-9a25-31c2045dfeee"
      },
      "source": [
        "print(model.predict([[40]]))"
      ],
      "execution_count": null,
      "outputs": [
        {
          "output_type": "stream",
          "name": "stdout",
          "text": [
            "[[79.58726]]\n"
          ]
        }
      ]
    },
    {
      "cell_type": "code",
      "metadata": {
        "id": "yrT4wuCh7_R4"
      },
      "source": [
        ""
      ],
      "execution_count": null,
      "outputs": []
    }
  ]
}